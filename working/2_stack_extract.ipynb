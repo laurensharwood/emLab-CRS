{
 "cells": [
  {
   "cell_type": "code",
   "execution_count": 5,
   "id": "4d8cff5f",
   "metadata": {},
   "outputs": [],
   "source": [
    "import os\n",
    "import numpy as np\n",
    "import pandas as pd\n",
    "from pandas import read_csv\n",
    "import geopandas as gpd\n",
    "import fiona\n",
    "import rasterio as rio\n",
    "from tqdm import tqdm\n",
    "import calendar\n",
    "import datetime\n"
   ]
  },
  {
   "cell_type": "code",
   "execution_count": null,
   "id": "1fc657c1",
   "metadata": {},
   "outputs": [],
   "source": []
  },
  {
   "cell_type": "code",
   "execution_count": 6,
   "id": "9e063d8b",
   "metadata": {},
   "outputs": [],
   "source": [
    "## stack ALL VIs in a folder. if return_csv is True - output points too \n",
    "\n",
    "## TO-DO:\n",
    "## CRS check that reprojects polys to raster crs\n",
    "\n",
    "def stack_extract(input_dir, out_name, inputShape, return_csv=True):\n",
    "    \n",
    "    rasList = []\n",
    "    bandList = []\n",
    "    \n",
    "    for img in sorted(os.listdir(input_dir)):\n",
    "        if img.endswith('.tif'):\n",
    "            rasList.append(os.path.join(input_dir,img))\n",
    "    print('number of images: ', len(rasList))\n",
    "    band_paths=rasList\n",
    "    # Read in metadata\n",
    "    first_band = rio.open(band_paths[0], 'r')\n",
    "    meta = first_band.meta.copy()\n",
    "    # Replace metadata with new count and create a new file\n",
    "    counts = 0\n",
    "    for ifile in band_paths:\n",
    "        with rio.open(ifile, 'r') as ff:\n",
    "            counts += ff.meta['count']\n",
    "    meta.update(count=counts)\n",
    "    out_path = out_name + \".tif\"\n",
    "    with rio.open(out_path, 'w', **meta) as ff:\n",
    "        for ii, ifile in tqdm(enumerate(band_paths)):\n",
    "            bands = rio.open(ifile, 'r').read()\n",
    "            if bands.ndim != 3:\n",
    "                bands = bands[np.newaxis, ...]\n",
    "            for band in bands:\n",
    "                ff.descriptions = tuple([i[-11:-4] for i in band_paths])\n",
    "                ff.write(band, ii+1)\n",
    "            bandList.append(ff.descriptions)\n",
    "            \n",
    "    plots = []            \n",
    "    multi_values_points = pd.Series()\n",
    "    with fiona.open(inputShape) as shp:\n",
    "        for feature in shp:\n",
    "            siteID = feature['properties']['Target_FID']\n",
    "            ProdID = feature['properties']['oldIDPROD']\n",
    "            Parcela = feature['properties']['Parcela']\n",
    "            coords = feature['geometry']['coordinates']\n",
    "            # Read pixel value at the given coordinates using Rasterio\n",
    "            # NB: `sample()` returns an iterable of ndarrays.\n",
    "            with rio.open(out_path) as stack_src:            \n",
    "                value = [v for v in stack_src.sample([coords])] \n",
    "            # Update the pandas series accordingly\n",
    "            multi_values_points.loc[siteID] = value\n",
    "            plots.append(int(siteID))\n",
    "            plots.append(ProdID)\n",
    "            plots.append(Parcela)\n",
    "            \n",
    "    plots_arr = np.array(plots)\n",
    "    plots_arr_reshape = plots_arr.reshape(int(plots_arr.shape[0]/3), -1)\n",
    "    plots_df = pd.DataFrame(plots_arr_reshape, columns = ['FID','FieldID','Parcela'])\n",
    "    df1 = pd.DataFrame(multi_values_points.values, index=multi_values_points.index)\n",
    "    df1.columns = ['Val']\n",
    "    df2 = pd.DataFrame(df1['Val'].explode())\n",
    "    extracted_vals = pd.DataFrame(df2[\"Val\"].to_list())\n",
    "    extracted_vals.columns = bandList[0]\n",
    "    extracted_vals['FID'] = np.arange(len(extracted_vals)).astype(str)\n",
    "    extracted_plots = pd.merge(plots_df, extracted_vals, how = 'outer', on='FID')\n",
    "    extracted_plots =  extracted_plots.set_index(\"FID\")\n",
    "    single_grid_vals = extracted_plots[~(extracted_plots.T == 0).any()]\n",
    "    #print(single_grid_vals) # print if nothing is outputting, export as wide format\n",
    "    ## REFORMAT\n",
    "    df2 = single_grid_vals.set_index([\"FieldID\", \"Parcela\"])\n",
    "    df2_T = df2.T\n",
    "    df3 = df2_T.reset_index(level=0)\n",
    "    df3[\"Julian\"] = df3[\"index\"].str.slice(start=0, stop=9).astype(str)\n",
    "    df3[\"Date\"] = pd.to_datetime(df3['Julian'], format='%Y%j')\n",
    "    df4 = df3.set_index('Date')\n",
    "    df5 = df4.drop(['index', 'Julian'], axis=1)\n",
    "    df5 =  df5.reset_index(level=0) \n",
    "    df5_melt = pd.melt(df5, id_vars='Date')\n",
    "    df5_melt.rename(columns = {'Date':'Date', 'ProdID': 'Code', 'Parcela': 'Parcela', 'value': 'Value'}, inplace=True)\n",
    "    #print(df5_melt.to_string())\n",
    "\n",
    "    if return_csv is True:\n",
    "        out_csv_path = out_name + \".csv\"\n",
    "        print('exporting csv: ' + out_csv_path)\n",
    "        return df5_melt.to_csv(out_csv_path)\n",
    "    else:\n",
    "        return('no csv for ' + out_csv_path)\n"
   ]
  },
  {
   "cell_type": "code",
   "execution_count": 6,
   "id": "441943dd",
   "metadata": {},
   "outputs": [],
   "source": [
    "index_list = ['wi'] # ['evi2', 'gcvi', 'kndvi', 'nbr', 'wi', 'ndti',]\n",
    "\n",
    "inputShape_ALBERS = '/home/sandbox-cel/wsa_lc/WSA_AOI/CRS_Plot_Locations/NI_ES_points_AEA.shp'\n",
    "inputShape_UTM = '/home/sandbox-cel/wsa_lc/WSA_AOI/CRS_Plot_Locations/NI_ES_points_UTM16.shp'\n",
    "\n",
    "ALB_NI_grids_for_NDTI = ['002225','002387','002550']\n",
    "UTM_NI_grids_for_NDTI = ['002306', '002307', '002386', '002388', '002548', '002549']\n",
    "\n",
    "grid_list_ALBERS = ['001892','001972','002047','002056','002127','002225','002387','002550']\n",
    "grid_list_UTM = ['002306','002307','002386'] # 002047,002127 ## '002306','002307','002386','002388','002548','002549'\n"
   ]
  },
  {
   "cell_type": "code",
   "execution_count": 7,
   "id": "812f8d71",
   "metadata": {},
   "outputs": [
    {
     "name": "stdout",
     "output_type": "stream",
     "text": [
      "number of images:  245\n"
     ]
    },
    {
     "name": "stderr",
     "output_type": "stream",
     "text": [
      "245it [02:44,  1.49it/s]\n",
      "/home/lsharwood/.nasaenv/lib64/python3.6/site-packages/ipykernel_launcher.py:37: DeprecationWarning: The default dtype for empty Series will be 'object' instead of 'float64' in a future version. Specify a dtype explicitly to silence this warning.\n",
      "/home/lsharwood/.nasaenv/lib64/python3.6/site-packages/pandas/core/generic.py:3889: PerformanceWarning: dropping on a non-lexsorted multi-index without a level parameter may impact performance.\n",
      "  obj = obj._drop_axis(labels, axis, level=level, errors=errors)\n"
     ]
    },
    {
     "name": "stdout",
     "output_type": "stream",
     "text": [
      "exporting csv: /home/downspout-cel/wsa_lc/TS/final/002225_ndti_TimeSeries.csv\n",
      "number of images:  246\n"
     ]
    },
    {
     "name": "stderr",
     "output_type": "stream",
     "text": [
      "246it [02:52,  1.42it/s]\n"
     ]
    },
    {
     "name": "stdout",
     "output_type": "stream",
     "text": [
      "exporting csv: /home/downspout-cel/wsa_lc/TS/final/002387_ndti_TimeSeries.csv\n",
      "number of images:  246\n"
     ]
    },
    {
     "name": "stderr",
     "output_type": "stream",
     "text": [
      "246it [02:40,  1.53it/s]\n"
     ]
    },
    {
     "name": "stdout",
     "output_type": "stream",
     "text": [
      "exporting csv: /home/downspout-cel/wsa_lc/TS/final/002550_ndti_TimeSeries.csv\n",
      "number of images:  246\n"
     ]
    },
    {
     "name": "stderr",
     "output_type": "stream",
     "text": [
      "246it [03:13,  1.27it/s]\n"
     ]
    },
    {
     "name": "stdout",
     "output_type": "stream",
     "text": [
      "exporting csv: /home/downspout-cel/wsa_lc/TS/final/002306_ndti_TimeSeries.csv\n",
      "number of images:  246\n"
     ]
    },
    {
     "name": "stderr",
     "output_type": "stream",
     "text": [
      "246it [03:10,  1.29it/s]\n"
     ]
    },
    {
     "name": "stdout",
     "output_type": "stream",
     "text": [
      "exporting csv: /home/downspout-cel/wsa_lc/TS/final/002307_ndti_TimeSeries.csv\n",
      "number of images:  246\n"
     ]
    },
    {
     "name": "stderr",
     "output_type": "stream",
     "text": [
      "246it [03:11,  1.28it/s]\n"
     ]
    },
    {
     "name": "stdout",
     "output_type": "stream",
     "text": [
      "exporting csv: /home/downspout-cel/wsa_lc/TS/final/002386_ndti_TimeSeries.csv\n",
      "number of images:  246\n"
     ]
    },
    {
     "name": "stderr",
     "output_type": "stream",
     "text": [
      "246it [03:21,  1.22it/s]\n"
     ]
    },
    {
     "name": "stdout",
     "output_type": "stream",
     "text": [
      "exporting csv: /home/downspout-cel/wsa_lc/TS/final/002388_ndti_TimeSeries.csv\n",
      "number of images:  246\n"
     ]
    },
    {
     "name": "stderr",
     "output_type": "stream",
     "text": [
      "246it [03:14,  1.26it/s]\n"
     ]
    },
    {
     "name": "stdout",
     "output_type": "stream",
     "text": [
      "exporting csv: /home/downspout-cel/wsa_lc/TS/final/002548_ndti_TimeSeries.csv\n",
      "number of images:  246\n"
     ]
    },
    {
     "name": "stderr",
     "output_type": "stream",
     "text": [
      "246it [03:10,  1.29it/s]\n"
     ]
    },
    {
     "name": "stdout",
     "output_type": "stream",
     "text": [
      "exporting csv: /home/downspout-cel/wsa_lc/TS/final/002549_ndti_TimeSeries.csv\n"
     ]
    }
   ],
   "source": [
    "index_list = ['ndti'] # ['evi2', 'gcvi', 'kndvi', 'nbr', 'wi', 'ndti',]\n",
    "\n",
    "ALB_NI_grids_for_NDTI = ['002225','002387','002550']\n",
    "UTM_NI_grids_for_NDTI = ['002306', '002307', '002386', '002388', '002548', '002549']\n",
    "\n",
    "inputShape_ALBERS = '/home/sandbox-cel/wsa_lc/WSA_AOI/CRS_Plot_Locations/NI_ES_points_AEA.shp'\n",
    "inputShape_UTM = '/home/sandbox-cel/wsa_lc/WSA_AOI/CRS_Plot_Locations/NI_ES_points_UTM16.shp'\n",
    "\n",
    "\n",
    "for grid in ALB_NI_grids_for_NDTI: ## change _ALBERS or UTM\n",
    "    for index in index_list:\n",
    "        input_dir = \"/home/downspout-cel/wsa_lc/raster/grids/\" + grid + \"/brdf_ts/ms/\" + index + \"/\" ### crs_lc/wsa_lc for UTM/Albers\n",
    "        out_name = \"/home/downspout-cel/wsa_lc/TS/final/\" + grid + \"_\" + index + \"_TimeSeries\"\n",
    "        stack_extract(input_dir, out_name, inputShape=inputShape_ALBERS, return_csv=True) ## change _ALBERS or UTM  \n",
    "        \n",
    "for grid in UTM_NI_grids_for_NDTI: ## change _ALBERS or UTM\n",
    "    for index in index_list:\n",
    "        input_dir = \"/home/downspout-cel/crs_lc/raster/grids/\" + grid + \"/brdf_ts/ms/\" + index + \"/\" ### crs_lc/wsa_lc for UTM/Albers\n",
    "        out_name = \"/home/downspout-cel/wsa_lc/TS/final/\" + grid + \"_\" + index + \"_TimeSeries\"\n",
    "        stack_extract(input_dir, out_name, inputShape=inputShape_UTM, return_csv=True) ## change _ALBERS or UTM\n",
    "        "
   ]
  },
  {
   "cell_type": "code",
   "execution_count": null,
   "id": "9ec74e53",
   "metadata": {},
   "outputs": [],
   "source": []
  }
 ],
 "metadata": {
  "kernelspec": {
   "display_name": "Python 3 (ipykernel)",
   "language": "python",
   "name": "python3"
  },
  "language_info": {
   "codemirror_mode": {
    "name": "ipython",
    "version": 3
   },
   "file_extension": ".py",
   "mimetype": "text/x-python",
   "name": "python",
   "nbconvert_exporter": "python",
   "pygments_lexer": "ipython3",
   "version": "3.8.13"
  }
 },
 "nbformat": 4,
 "nbformat_minor": 5
}
