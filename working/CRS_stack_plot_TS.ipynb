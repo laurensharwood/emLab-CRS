{
 "cells": [
  {
   "cell_type": "code",
   "execution_count": 1,
   "id": "dbbee44a",
   "metadata": {},
   "outputs": [],
   "source": [
    "import os\n",
    "import numpy as np\n",
    "import pandas as pd\n",
    "from pandas import read_csv\n",
    "import geopandas as gpd\n",
    "import fiona\n",
    "import rasterio as rio\n",
    "from tqdm import tqdm\n",
    "import calendar\n",
    "import datetime\n",
    "import matplotlib.pyplot as plt\n",
    "import plotly\n",
    "import plotly.express as px\n"
   ]
  },
  {
   "cell_type": "code",
   "execution_count": 2,
   "id": "f74b824f",
   "metadata": {},
   "outputs": [],
   "source": [
    "## stack ALL VIs in a folder. if return_csv is True - output points too \n",
    "\n",
    "## TO-DO:\n",
    "## rasterio windowed writing \n",
    "## CRS check that reprojects polys to raster crs\n",
    "\n",
    "def stack_extract(input_dir, out_name, inputShape, return_csv=True):\n",
    "    \n",
    "    rasList = []\n",
    "    bandList = []\n",
    "    \n",
    "    for img in sorted(os.listdir(input_dir)):\n",
    "        if img.endswith('.tif'):\n",
    "            rasList.append(os.path.join(input_dir,img))\n",
    "    print('number of images: ', len(rasList))\n",
    "    band_paths=rasList\n",
    "    # Read in metadata\n",
    "    first_band = rio.open(band_paths[0], 'r')\n",
    "    meta = first_band.meta.copy()\n",
    "    # Replace metadata with new count and create a new file\n",
    "    counts = 0\n",
    "    for ifile in band_paths:\n",
    "        with rio.open(ifile, 'r') as ff:\n",
    "            counts += ff.meta['count']\n",
    "    meta.update(count=counts)\n",
    "    out_path = out_name + \".tif\"\n",
    "    with rio.open(out_path, 'w', **meta) as ff:\n",
    "        for ii, ifile in tqdm(enumerate(band_paths)):\n",
    "            bands = rio.open(ifile, 'r').read()\n",
    "            if bands.ndim != 3:\n",
    "                bands = bands[np.newaxis, ...]\n",
    "            for band in bands:\n",
    "                ff.descriptions = tuple([i[-11:-4] for i in band_paths])\n",
    "                ff.write(band, ii+1)\n",
    "            bandList.append(ff.descriptions)\n",
    "            \n",
    "    plots = []            \n",
    "    multi_values_points = pd.Series()\n",
    "    with fiona.open(inputShape) as shp:\n",
    "        for feature in shp:\n",
    "            siteID = feature['properties']['Target_FID']\n",
    "            ProdID = feature['properties']['oldIDPROD']\n",
    "            Parcela = feature['properties']['Parcela']\n",
    "            coords = feature['geometry']['coordinates']\n",
    "            # Read pixel value at the given coordinates using Rasterio\n",
    "            # NB: `sample()` returns an iterable of ndarrays.\n",
    "            with rio.open(out_path) as stack_src:            \n",
    "                value = [v for v in stack_src.sample([coords])] \n",
    "            # Update the pandas series accordingly\n",
    "            multi_values_points.loc[siteID] = value\n",
    "            plots.append(int(siteID))\n",
    "            plots.append(ProdID)\n",
    "            plots.append(Parcela)\n",
    "            \n",
    "    plots_arr = np.array(plots)\n",
    "    plots_arr_reshape = plots_arr.reshape(int(plots_arr.shape[0]/3), -1)\n",
    "    plots_df = pd.DataFrame(plots_arr_reshape, columns = ['FID','FieldID','Parcela'])\n",
    "    df1 = pd.DataFrame(multi_values_points.values, index=multi_values_points.index)\n",
    "    df1.columns = ['Val']\n",
    "    df2 = pd.DataFrame(df1['Val'].explode())\n",
    "    extracted_vals = pd.DataFrame(df2[\"Val\"].to_list())\n",
    "    extracted_vals.columns = bandList[0]\n",
    "    extracted_vals['FID'] = np.arange(len(extracted_vals)).astype(str)\n",
    "    extracted_plots = pd.merge(plots_df, extracted_vals, how = 'outer', on='FID')\n",
    "    extracted_plots =  extracted_plots.set_index(\"FID\")\n",
    "    single_grid_vals = extracted_plots[~(extracted_plots.T == 0).any()]\n",
    "    #print(single_grid_vals) # print if nothing is outputting, export as wide format\n",
    "    ## REFORMAT\n",
    "    df2 = single_grid_vals.set_index([\"FieldID\", \"Parcela\"])\n",
    "    df2_T = df2.T\n",
    "    df3 = df2_T.reset_index(level=0)\n",
    "    df3[\"Julian\"] = df3[\"index\"].str.slice(start=0, stop=9).astype(str)\n",
    "    df3[\"Date\"] = pd.to_datetime(df3['Julian'], format='%Y%j')\n",
    "    df4 = df3.set_index('Date')\n",
    "    df5 = df4.drop(['index', 'Julian'], axis=1)\n",
    "    df5 =  df5.reset_index(level=0) \n",
    "    df5_melt = pd.melt(df5, id_vars='Date')\n",
    "    df5_melt.rename(columns = {'Date':'Date', 'ProdID': 'Code', 'Parcela': 'Parcela', 'value': 'Value'}, inplace=True)\n",
    "    #print(df5_melt.to_string())\n",
    "\n",
    "    if return_csv is True:\n",
    "        out_csv_path = out_name + \".csv\"\n",
    "        print('exporting csv: ' + out_csv_path)\n",
    "        return df5_melt.to_csv(out_csv_path)\n",
    "    else:\n",
    "        return('no csv for ' + out_csv_path)\n",
    "\n"
   ]
  },
  {
   "cell_type": "code",
   "execution_count": null,
   "id": "7c7646b8",
   "metadata": {},
   "outputs": [
    {
     "name": "stdout",
     "output_type": "stream",
     "text": [
      "number of images:  281\n"
     ]
    },
    {
     "name": "stderr",
     "output_type": "stream",
     "text": [
      "281it [04:46,  1.02s/it]\n",
      "/home/lsharwood/.nasaenv/lib64/python3.6/site-packages/ipykernel_launcher.py:38: DeprecationWarning:\n",
      "\n",
      "The default dtype for empty Series will be 'object' instead of 'float64' in a future version. Specify a dtype explicitly to silence this warning.\n",
      "\n",
      "/home/lsharwood/.nasaenv/lib64/python3.6/site-packages/pandas/core/generic.py:3889: PerformanceWarning:\n",
      "\n",
      "dropping on a non-lexsorted multi-index without a level parameter may impact performance.\n",
      "\n"
     ]
    },
    {
     "name": "stdout",
     "output_type": "stream",
     "text": [
      "exporting csv: /home/downspout-cel/wsa_lc/TS/final/001892_evi2_TimeSeries.csv\n",
      "number of images:  245\n"
     ]
    },
    {
     "name": "stderr",
     "output_type": "stream",
     "text": [
      "245it [03:56,  1.04it/s]\n"
     ]
    },
    {
     "name": "stdout",
     "output_type": "stream",
     "text": [
      "exporting csv: /home/downspout-cel/wsa_lc/TS/final/001892_gcvi_TimeSeries.csv\n",
      "number of images:  245\n"
     ]
    },
    {
     "name": "stderr",
     "output_type": "stream",
     "text": [
      "245it [03:52,  1.05it/s]\n"
     ]
    },
    {
     "name": "stdout",
     "output_type": "stream",
     "text": [
      "exporting csv: /home/downspout-cel/wsa_lc/TS/final/001892_kndvi_TimeSeries.csv\n",
      "number of images:  281\n"
     ]
    },
    {
     "name": "stderr",
     "output_type": "stream",
     "text": [
      "281it [05:28,  1.17s/it]\n"
     ]
    },
    {
     "name": "stdout",
     "output_type": "stream",
     "text": [
      "exporting csv: /home/downspout-cel/wsa_lc/TS/final/001892_nbr_TimeSeries.csv\n",
      "number of images:  281\n"
     ]
    },
    {
     "name": "stderr",
     "output_type": "stream",
     "text": [
      "281it [05:17,  1.13s/it]\n"
     ]
    },
    {
     "name": "stdout",
     "output_type": "stream",
     "text": [
      "exporting csv: /home/downspout-cel/wsa_lc/TS/final/001972_evi2_TimeSeries.csv\n",
      "number of images:  245\n"
     ]
    },
    {
     "name": "stderr",
     "output_type": "stream",
     "text": [
      "245it [03:41,  1.11it/s]\n"
     ]
    },
    {
     "name": "stdout",
     "output_type": "stream",
     "text": [
      "exporting csv: /home/downspout-cel/wsa_lc/TS/final/001972_gcvi_TimeSeries.csv\n",
      "number of images:  245\n"
     ]
    },
    {
     "name": "stderr",
     "output_type": "stream",
     "text": [
      "245it [03:39,  1.12it/s]\n"
     ]
    },
    {
     "name": "stdout",
     "output_type": "stream",
     "text": [
      "exporting csv: /home/downspout-cel/wsa_lc/TS/final/001972_kndvi_TimeSeries.csv\n",
      "number of images:  281\n"
     ]
    },
    {
     "name": "stderr",
     "output_type": "stream",
     "text": [
      "281it [05:01,  1.07s/it]\n"
     ]
    },
    {
     "name": "stdout",
     "output_type": "stream",
     "text": [
      "exporting csv: /home/downspout-cel/wsa_lc/TS/final/001972_nbr_TimeSeries.csv\n",
      "number of images:  282\n"
     ]
    },
    {
     "name": "stderr",
     "output_type": "stream",
     "text": [
      "282it [04:50,  1.03s/it]\n"
     ]
    },
    {
     "name": "stdout",
     "output_type": "stream",
     "text": [
      "exporting csv: /home/downspout-cel/wsa_lc/TS/final/002047_evi2_TimeSeries.csv\n",
      "number of images:  282\n"
     ]
    },
    {
     "name": "stderr",
     "output_type": "stream",
     "text": [
      "282it [04:51,  1.03s/it]\n"
     ]
    },
    {
     "name": "stdout",
     "output_type": "stream",
     "text": [
      "exporting csv: /home/downspout-cel/wsa_lc/TS/final/002047_gcvi_TimeSeries.csv\n",
      "number of images:  282\n"
     ]
    },
    {
     "name": "stderr",
     "output_type": "stream",
     "text": [
      "282it [04:43,  1.01s/it]\n"
     ]
    },
    {
     "name": "stdout",
     "output_type": "stream",
     "text": [
      "exporting csv: /home/downspout-cel/wsa_lc/TS/final/002047_kndvi_TimeSeries.csv\n",
      "number of images:  282\n"
     ]
    },
    {
     "name": "stderr",
     "output_type": "stream",
     "text": [
      "282it [05:01,  1.07s/it]\n"
     ]
    },
    {
     "name": "stdout",
     "output_type": "stream",
     "text": [
      "exporting csv: /home/downspout-cel/wsa_lc/TS/final/002047_nbr_TimeSeries.csv\n",
      "number of images:  282\n"
     ]
    },
    {
     "name": "stderr",
     "output_type": "stream",
     "text": [
      "282it [05:04,  1.08s/it]\n"
     ]
    },
    {
     "name": "stdout",
     "output_type": "stream",
     "text": [
      "exporting csv: /home/downspout-cel/wsa_lc/TS/final/002056_evi2_TimeSeries.csv\n",
      "number of images:  282\n"
     ]
    },
    {
     "name": "stderr",
     "output_type": "stream",
     "text": [
      "282it [04:51,  1.03s/it]\n"
     ]
    },
    {
     "name": "stdout",
     "output_type": "stream",
     "text": [
      "exporting csv: /home/downspout-cel/wsa_lc/TS/final/002056_gcvi_TimeSeries.csv\n",
      "number of images:  282\n"
     ]
    },
    {
     "name": "stderr",
     "output_type": "stream",
     "text": [
      "282it [05:00,  1.07s/it]\n"
     ]
    },
    {
     "name": "stdout",
     "output_type": "stream",
     "text": [
      "exporting csv: /home/downspout-cel/wsa_lc/TS/final/002056_kndvi_TimeSeries.csv\n",
      "number of images:  282\n"
     ]
    },
    {
     "name": "stderr",
     "output_type": "stream",
     "text": [
      "282it [05:16,  1.12s/it]\n"
     ]
    },
    {
     "name": "stdout",
     "output_type": "stream",
     "text": [
      "exporting csv: /home/downspout-cel/wsa_lc/TS/final/002056_nbr_TimeSeries.csv\n",
      "number of images:  282\n"
     ]
    },
    {
     "name": "stderr",
     "output_type": "stream",
     "text": [
      "282it [05:21,  1.14s/it]\n"
     ]
    },
    {
     "name": "stdout",
     "output_type": "stream",
     "text": [
      "exporting csv: /home/downspout-cel/wsa_lc/TS/final/002127_evi2_TimeSeries.csv\n",
      "number of images:  282\n"
     ]
    },
    {
     "name": "stderr",
     "output_type": "stream",
     "text": [
      "282it [04:39,  1.01it/s]\n"
     ]
    },
    {
     "name": "stdout",
     "output_type": "stream",
     "text": [
      "exporting csv: /home/downspout-cel/wsa_lc/TS/final/002127_gcvi_TimeSeries.csv\n",
      "number of images:  282\n"
     ]
    },
    {
     "name": "stderr",
     "output_type": "stream",
     "text": [
      "282it [04:39,  1.01it/s]\n"
     ]
    },
    {
     "name": "stdout",
     "output_type": "stream",
     "text": [
      "exporting csv: /home/downspout-cel/wsa_lc/TS/final/002127_kndvi_TimeSeries.csv\n",
      "number of images:  282\n"
     ]
    },
    {
     "name": "stderr",
     "output_type": "stream",
     "text": [
      "282it [04:39,  1.01it/s]\n"
     ]
    },
    {
     "name": "stdout",
     "output_type": "stream",
     "text": [
      "exporting csv: /home/downspout-cel/wsa_lc/TS/final/002127_nbr_TimeSeries.csv\n",
      "number of images:  281\n"
     ]
    },
    {
     "name": "stderr",
     "output_type": "stream",
     "text": [
      "281it [04:45,  1.02s/it]\n"
     ]
    },
    {
     "name": "stdout",
     "output_type": "stream",
     "text": [
      "exporting csv: /home/downspout-cel/wsa_lc/TS/final/002225_evi2_TimeSeries.csv\n",
      "number of images:  281\n"
     ]
    },
    {
     "name": "stderr",
     "output_type": "stream",
     "text": [
      "281it [04:49,  1.03s/it]\n"
     ]
    },
    {
     "name": "stdout",
     "output_type": "stream",
     "text": [
      "exporting csv: /home/downspout-cel/wsa_lc/TS/final/002225_gcvi_TimeSeries.csv\n",
      "number of images:  281\n"
     ]
    },
    {
     "name": "stderr",
     "output_type": "stream",
     "text": [
      "281it [04:47,  1.02s/it]\n"
     ]
    },
    {
     "name": "stdout",
     "output_type": "stream",
     "text": [
      "exporting csv: /home/downspout-cel/wsa_lc/TS/final/002225_kndvi_TimeSeries.csv\n",
      "number of images:  281\n"
     ]
    },
    {
     "name": "stderr",
     "output_type": "stream",
     "text": [
      "281it [04:43,  1.01s/it]\n"
     ]
    },
    {
     "name": "stdout",
     "output_type": "stream",
     "text": [
      "exporting csv: /home/downspout-cel/wsa_lc/TS/final/002225_nbr_TimeSeries.csv\n",
      "number of images:  318\n"
     ]
    },
    {
     "name": "stderr",
     "output_type": "stream",
     "text": [
      "318it [06:10,  1.17s/it]\n"
     ]
    },
    {
     "name": "stdout",
     "output_type": "stream",
     "text": [
      "exporting csv: /home/downspout-cel/wsa_lc/TS/final/002387_evi2_TimeSeries.csv\n",
      "number of images:  282\n"
     ]
    },
    {
     "name": "stderr",
     "output_type": "stream",
     "text": [
      "282it [04:37,  1.02it/s]\n"
     ]
    },
    {
     "name": "stdout",
     "output_type": "stream",
     "text": [
      "exporting csv: /home/downspout-cel/wsa_lc/TS/final/002387_gcvi_TimeSeries.csv\n",
      "number of images:  282\n"
     ]
    },
    {
     "name": "stderr",
     "output_type": "stream",
     "text": [
      "282it [04:37,  1.02it/s]\n"
     ]
    },
    {
     "name": "stdout",
     "output_type": "stream",
     "text": [
      "exporting csv: /home/downspout-cel/wsa_lc/TS/final/002387_kndvi_TimeSeries.csv\n",
      "number of images:  282\n"
     ]
    },
    {
     "name": "stderr",
     "output_type": "stream",
     "text": [
      "282it [04:41,  1.00it/s]\n"
     ]
    },
    {
     "name": "stdout",
     "output_type": "stream",
     "text": [
      "exporting csv: /home/downspout-cel/wsa_lc/TS/final/002387_nbr_TimeSeries.csv\n",
      "number of images:  282\n"
     ]
    },
    {
     "name": "stderr",
     "output_type": "stream",
     "text": [
      "282it [04:27,  1.05it/s]\n"
     ]
    },
    {
     "name": "stdout",
     "output_type": "stream",
     "text": [
      "exporting csv: /home/downspout-cel/wsa_lc/TS/final/002550_evi2_TimeSeries.csv\n",
      "number of images:  282\n"
     ]
    },
    {
     "name": "stderr",
     "output_type": "stream",
     "text": [
      "282it [05:03,  1.08s/it]\n"
     ]
    },
    {
     "name": "stdout",
     "output_type": "stream",
     "text": [
      "exporting csv: /home/downspout-cel/wsa_lc/TS/final/002550_gcvi_TimeSeries.csv\n",
      "number of images:  282\n"
     ]
    },
    {
     "name": "stderr",
     "output_type": "stream",
     "text": [
      "282it [04:48,  1.02s/it]\n"
     ]
    },
    {
     "name": "stdout",
     "output_type": "stream",
     "text": [
      "exporting csv: /home/downspout-cel/wsa_lc/TS/final/002550_kndvi_TimeSeries.csv\n",
      "number of images:  282\n"
     ]
    },
    {
     "name": "stderr",
     "output_type": "stream",
     "text": [
      "282it [04:49,  1.03s/it]\n"
     ]
    },
    {
     "name": "stdout",
     "output_type": "stream",
     "text": [
      "exporting csv: /home/downspout-cel/wsa_lc/TS/final/002550_nbr_TimeSeries.csv\n",
      "number of images:  246\n"
     ]
    },
    {
     "name": "stderr",
     "output_type": "stream",
     "text": [
      "246it [04:04,  1.01it/s]\n"
     ]
    },
    {
     "name": "stdout",
     "output_type": "stream",
     "text": [
      "exporting csv: /home/downspout-cel/wsa_lc/TS/final/002306_evi2_TimeSeries.csv\n",
      "number of images:  246\n"
     ]
    },
    {
     "name": "stderr",
     "output_type": "stream",
     "text": [
      "246it [04:06,  1.00s/it]\n"
     ]
    },
    {
     "name": "stdout",
     "output_type": "stream",
     "text": [
      "exporting csv: /home/downspout-cel/wsa_lc/TS/final/002306_gcvi_TimeSeries.csv\n",
      "number of images:  246\n"
     ]
    },
    {
     "name": "stderr",
     "output_type": "stream",
     "text": [
      "246it [03:55,  1.05it/s]\n"
     ]
    },
    {
     "name": "stdout",
     "output_type": "stream",
     "text": [
      "exporting csv: /home/downspout-cel/wsa_lc/TS/final/002306_kndvi_TimeSeries.csv\n",
      "number of images:  246\n"
     ]
    },
    {
     "name": "stderr",
     "output_type": "stream",
     "text": [
      "246it [03:54,  1.05it/s]\n"
     ]
    },
    {
     "name": "stdout",
     "output_type": "stream",
     "text": [
      "exporting csv: /home/downspout-cel/wsa_lc/TS/final/002306_nbr_TimeSeries.csv\n",
      "number of images:  246\n"
     ]
    },
    {
     "name": "stderr",
     "output_type": "stream",
     "text": [
      "246it [03:57,  1.04it/s]\n"
     ]
    },
    {
     "name": "stdout",
     "output_type": "stream",
     "text": [
      "exporting csv: /home/downspout-cel/wsa_lc/TS/final/002307_evi2_TimeSeries.csv\n",
      "number of images:  246\n"
     ]
    },
    {
     "name": "stderr",
     "output_type": "stream",
     "text": [
      "246it [03:59,  1.03it/s]\n"
     ]
    },
    {
     "name": "stdout",
     "output_type": "stream",
     "text": [
      "exporting csv: /home/downspout-cel/wsa_lc/TS/final/002307_gcvi_TimeSeries.csv\n",
      "number of images:  246\n"
     ]
    },
    {
     "name": "stderr",
     "output_type": "stream",
     "text": [
      "246it [03:55,  1.04it/s]\n"
     ]
    },
    {
     "name": "stdout",
     "output_type": "stream",
     "text": [
      "exporting csv: /home/downspout-cel/wsa_lc/TS/final/002307_kndvi_TimeSeries.csv\n",
      "number of images:  246\n"
     ]
    },
    {
     "name": "stderr",
     "output_type": "stream",
     "text": [
      "246it [03:55,  1.04it/s]\n"
     ]
    },
    {
     "name": "stdout",
     "output_type": "stream",
     "text": [
      "exporting csv: /home/downspout-cel/wsa_lc/TS/final/002307_nbr_TimeSeries.csv\n",
      "number of images:  246\n"
     ]
    },
    {
     "name": "stderr",
     "output_type": "stream",
     "text": [
      "246it [03:54,  1.05it/s]\n"
     ]
    },
    {
     "name": "stdout",
     "output_type": "stream",
     "text": [
      "exporting csv: /home/downspout-cel/wsa_lc/TS/final/002386_evi2_TimeSeries.csv\n",
      "number of images:  246\n"
     ]
    },
    {
     "name": "stderr",
     "output_type": "stream",
     "text": [
      "246it [03:56,  1.04it/s]\n"
     ]
    },
    {
     "name": "stdout",
     "output_type": "stream",
     "text": [
      "exporting csv: /home/downspout-cel/wsa_lc/TS/final/002386_gcvi_TimeSeries.csv\n",
      "number of images:  246\n"
     ]
    },
    {
     "name": "stderr",
     "output_type": "stream",
     "text": [
      "246it [03:50,  1.07it/s]\n"
     ]
    },
    {
     "name": "stdout",
     "output_type": "stream",
     "text": [
      "exporting csv: /home/downspout-cel/wsa_lc/TS/final/002386_kndvi_TimeSeries.csv\n",
      "number of images:  246\n"
     ]
    },
    {
     "name": "stderr",
     "output_type": "stream",
     "text": [
      "246it [03:55,  1.04it/s]\n"
     ]
    },
    {
     "name": "stdout",
     "output_type": "stream",
     "text": [
      "exporting csv: /home/downspout-cel/wsa_lc/TS/final/002386_nbr_TimeSeries.csv\n",
      "number of images:  246\n"
     ]
    },
    {
     "name": "stderr",
     "output_type": "stream",
     "text": [
      "246it [04:00,  1.02it/s]\n"
     ]
    },
    {
     "name": "stdout",
     "output_type": "stream",
     "text": [
      "exporting csv: /home/downspout-cel/wsa_lc/TS/final/002388_evi2_TimeSeries.csv\n",
      "number of images:  246\n"
     ]
    },
    {
     "name": "stderr",
     "output_type": "stream",
     "text": [
      "246it [04:19,  1.06s/it]\n"
     ]
    },
    {
     "name": "stdout",
     "output_type": "stream",
     "text": [
      "exporting csv: /home/downspout-cel/wsa_lc/TS/final/002388_gcvi_TimeSeries.csv\n",
      "number of images:  246\n"
     ]
    },
    {
     "name": "stderr",
     "output_type": "stream",
     "text": [
      "246it [04:00,  1.02it/s]\n"
     ]
    },
    {
     "name": "stdout",
     "output_type": "stream",
     "text": [
      "exporting csv: /home/downspout-cel/wsa_lc/TS/final/002388_kndvi_TimeSeries.csv\n",
      "number of images:  246\n"
     ]
    },
    {
     "name": "stderr",
     "output_type": "stream",
     "text": [
      "246it [04:18,  1.05s/it]\n"
     ]
    },
    {
     "name": "stdout",
     "output_type": "stream",
     "text": [
      "exporting csv: /home/downspout-cel/wsa_lc/TS/final/002388_nbr_TimeSeries.csv\n",
      "number of images:  246\n"
     ]
    },
    {
     "name": "stderr",
     "output_type": "stream",
     "text": [
      "246it [04:13,  1.03s/it]\n"
     ]
    },
    {
     "name": "stdout",
     "output_type": "stream",
     "text": [
      "exporting csv: /home/downspout-cel/wsa_lc/TS/final/002548_evi2_TimeSeries.csv\n",
      "number of images:  246\n"
     ]
    },
    {
     "name": "stderr",
     "output_type": "stream",
     "text": [
      "246it [04:13,  1.03s/it]\n"
     ]
    },
    {
     "name": "stdout",
     "output_type": "stream",
     "text": [
      "exporting csv: /home/downspout-cel/wsa_lc/TS/final/002548_gcvi_TimeSeries.csv\n",
      "number of images:  246\n"
     ]
    },
    {
     "name": "stderr",
     "output_type": "stream",
     "text": [
      "246it [04:32,  1.11s/it]\n"
     ]
    },
    {
     "name": "stdout",
     "output_type": "stream",
     "text": [
      "exporting csv: /home/downspout-cel/wsa_lc/TS/final/002548_kndvi_TimeSeries.csv\n",
      "number of images:  246\n"
     ]
    },
    {
     "name": "stderr",
     "output_type": "stream",
     "text": [
      "246it [04:36,  1.13s/it]\n"
     ]
    },
    {
     "name": "stdout",
     "output_type": "stream",
     "text": [
      "exporting csv: /home/downspout-cel/wsa_lc/TS/final/002548_nbr_TimeSeries.csv\n",
      "number of images:  246\n"
     ]
    },
    {
     "name": "stderr",
     "output_type": "stream",
     "text": [
      "246it [04:12,  1.03s/it]\n"
     ]
    },
    {
     "name": "stdout",
     "output_type": "stream",
     "text": [
      "exporting csv: /home/downspout-cel/wsa_lc/TS/final/002549_evi2_TimeSeries.csv\n",
      "number of images:  246\n"
     ]
    },
    {
     "name": "stderr",
     "output_type": "stream",
     "text": [
      "246it [04:12,  1.02s/it]\n"
     ]
    },
    {
     "name": "stdout",
     "output_type": "stream",
     "text": [
      "exporting csv: /home/downspout-cel/wsa_lc/TS/final/002549_gcvi_TimeSeries.csv\n",
      "number of images:  246\n"
     ]
    },
    {
     "name": "stderr",
     "output_type": "stream",
     "text": [
      "246it [04:09,  1.02s/it]\n"
     ]
    },
    {
     "name": "stdout",
     "output_type": "stream",
     "text": [
      "exporting csv: /home/downspout-cel/wsa_lc/TS/final/002549_kndvi_TimeSeries.csv\n",
      "number of images:  246\n"
     ]
    },
    {
     "name": "stderr",
     "output_type": "stream",
     "text": [
      "246it [04:17,  1.05s/it]\n"
     ]
    },
    {
     "name": "stdout",
     "output_type": "stream",
     "text": [
      "exporting csv: /home/downspout-cel/wsa_lc/TS/final/002549_nbr_TimeSeries.csv\n"
     ]
    }
   ],
   "source": [
    "index_list = ['evi2', 'gcvi', 'kndvi', 'nbr']\n",
    "\n",
    "inputShape_ALBERS = '/home/sandbox-cel/wsa_lc/WSA_AOI/CRS_Plot_Locations/NI_ES_points_AEA.shp'\n",
    "grid_list_ALBERS = ['001892','001972','002047','002056','002127','002225','002387','002550']\n",
    "\n",
    "inputShape_UTM = '/home/sandbox-cel/wsa_lc/WSA_AOI/CRS_Plot_Locations/NI_ES_points_UTM16.shp'\n",
    "grid_list_UTM = ['002306','002307','002386','002388','002548','002549'] # 002047,002127\n",
    "\n",
    "#######################################\n",
    "for grid in grid_list_ALBERS: ## change _ALBERS or UTM\n",
    "    for index in index_list:\n",
    "        input_dir = \"/home/downspout-cel/wsa_lc/raster/grids/\" + grid + \"/brdf_ts/ms/\" + index + \"/\" ### crs_lc/wsa_lc for UTM/Albers\n",
    "        out_name = \"/home/downspout-cel/wsa_lc/TS/final/\" + grid + \"_\" + index + \"_TimeSeries\"\n",
    "        stack_extract(input_dir, out_name, inputShape=inputShape_ALBERS, return_csv=True) ## change _ALBERS or UTM  \n",
    "        \n",
    "for grid in grid_list_UTM: ## change _ALBERS or UTM\n",
    "    for index in index_list:\n",
    "        input_dir = \"/home/downspout-cel/crs_lc/raster/grids/\" + grid + \"/brdf_ts/ms/\" + index + \"/\" ### crs_lc/wsa_lc for UTM/Albers\n",
    "        out_name = \"/home/downspout-cel/wsa_lc/TS/final/\" + grid + \"_\" + index + \"_TimeSeries\"\n",
    "        stack_extract(input_dir, out_name, inputShape=inputShape_UTM, return_csv=True) ## change _ALBERS or UTM\n",
    "        \n",
    "     "
   ]
  },
  {
   "cell_type": "code",
   "execution_count": null,
   "id": "9fd839a4",
   "metadata": {},
   "outputs": [],
   "source": []
  },
  {
   "cell_type": "code",
   "execution_count": null,
   "id": "e14fad76",
   "metadata": {},
   "outputs": [],
   "source": []
  },
  {
   "cell_type": "code",
   "execution_count": null,
   "id": "b7df2603",
   "metadata": {},
   "outputs": [],
   "source": []
  },
  {
   "cell_type": "code",
   "execution_count": null,
   "id": "69656bdf",
   "metadata": {},
   "outputs": [],
   "source": []
  },
  {
   "cell_type": "code",
   "execution_count": null,
   "id": "4cd74eeb",
   "metadata": {},
   "outputs": [],
   "source": []
  },
  {
   "cell_type": "code",
   "execution_count": null,
   "id": "3e40072d",
   "metadata": {},
   "outputs": [],
   "source": []
  },
  {
   "cell_type": "code",
   "execution_count": null,
   "id": "77336ae8",
   "metadata": {},
   "outputs": [],
   "source": []
  },
  {
   "cell_type": "code",
   "execution_count": null,
   "id": "03c73703",
   "metadata": {},
   "outputs": [],
   "source": []
  },
  {
   "cell_type": "code",
   "execution_count": null,
   "id": "a677f0ad",
   "metadata": {},
   "outputs": [],
   "source": []
  },
  {
   "cell_type": "code",
   "execution_count": null,
   "id": "64d14097",
   "metadata": {},
   "outputs": [],
   "source": []
  },
  {
   "cell_type": "markdown",
   "id": "8549ae34",
   "metadata": {},
   "source": [
    "# 1: Stack all VIs in a folder then output CSV of extracted values for points"
   ]
  },
  {
   "cell_type": "code",
   "execution_count": null,
   "id": "4ea3ed18",
   "metadata": {},
   "outputs": [],
   "source": [
    "## stack ALL VIs in a folder. if return_csv is True - output points too \n",
    "\n",
    "## TO-DO:\n",
    "## rasterio windowed writing \n",
    "## CRS check that reprojects polys to raster crs\n",
    "\n",
    "def stack_extract(input_dir, out_name, inputShape, return_csv=True):\n",
    "    \n",
    "    rasList = []\n",
    "    bandList = []\n",
    "    \n",
    "    for img in sorted(os.listdir(input_dir)):\n",
    "        if img.endswith('.tif'):\n",
    "            rasList.append(os.path.join(input_dir,img))\n",
    "    print('number of images: ', len(rasList))\n",
    "    band_paths=rasList\n",
    "    # Read in metadata\n",
    "    first_band = rio.open(band_paths[0], 'r')\n",
    "    meta = first_band.meta.copy()\n",
    "    # Replace metadata with new count and create a new file\n",
    "    counts = 0\n",
    "    for ifile in band_paths:\n",
    "        with rio.open(ifile, 'r') as ff:\n",
    "            counts += ff.meta['count']\n",
    "    meta.update(count=counts)\n",
    "    out_path = out_name + \".tif\"\n",
    "    with rio.open(out_path, 'w', **meta) as ff:\n",
    "        for ii, ifile in tqdm(enumerate(band_paths)):\n",
    "            bands = rio.open(ifile, 'r').read()\n",
    "            if bands.ndim != 3:\n",
    "                bands = bands[np.newaxis, ...]\n",
    "            for band in bands:\n",
    "                ff.descriptions = tuple([i[-11:-4] for i in band_paths])\n",
    "                ff.write(band, ii+1)\n",
    "            bandList.append(ff.descriptions)\n",
    "            \n",
    "    plots = []            \n",
    "    multi_values_points = pd.Series()\n",
    "    with fiona.open(inputShape) as shp:\n",
    "        for feature in shp:\n",
    "            siteID = feature['properties']['TARGET_FID']\n",
    "            ProdID = feature['properties']['ID_Prod']\n",
    "            Parcela = feature['properties']['Parcela']\n",
    "            coords = feature['geometry']['coordinates']\n",
    "            # Read pixel value at the given coordinates using Rasterio\n",
    "            # NB: `sample()` returns an iterable of ndarrays.\n",
    "            with rio.open(out_path) as stack_src:            \n",
    "                value = [v for v in stack_src.sample([coords])] \n",
    "            # Update the pandas series accordingly\n",
    "            multi_values_points.loc[siteID] = value\n",
    "            plots.append(siteID)\n",
    "            plots.append(ProdID)\n",
    "            plots.append(Parcela)\n",
    "            \n",
    "    plots_arr = np.array(plots)\n",
    "    plots_arr_reshape = plots_arr.reshape(int(plots_arr.shape[0]/3), -1)\n",
    "    plots_df = pd.DataFrame(plots_arr_reshape, columns = ['FID','FieldID','Parcela'])\n",
    "    df1 = pd.DataFrame(multi_values_points.values, index=multi_values_points.index)\n",
    "    df1.columns = ['Val']\n",
    "    df2 = pd.DataFrame(df1['Val'].explode())\n",
    "    extracted_vals = pd.DataFrame(df2[\"Val\"].to_list())\n",
    "    extracted_vals.columns = bandList[0]\n",
    "    extracted_vals['FID'] = np.arange(len(extracted_vals)).astype(str)\n",
    "    extracted_plots = pd.merge(plots_df, extracted_vals, how = 'outer', on='FID')\n",
    "    extracted_plots =  extracted_plots.set_index(\"FID\")\n",
    "    single_grid_vals = extracted_plots[~(extracted_plots.T == 0).any()]\n",
    "    #print(single_grid_vals) # print if nothing is outputting, export as wide format\n",
    "    ## REFORMAT\n",
    "    df2 = single_grid_vals.set_index([\"FieldID\", \"Parcela\"])\n",
    "    df2_T = df2.T\n",
    "    df3 = df2_T.reset_index(level=0)\n",
    "    df3[\"Julian\"] = df3[\"index\"].str.slice(start=0, stop=9).astype(str)\n",
    "    df3[\"Date\"] = pd.to_datetime(df3['Julian'], format='%Y%j')\n",
    "    df4 = df3.set_index('Date')\n",
    "    df5 = df4.drop(['index', 'Julian'], axis=1)\n",
    "    df5 =  df5.reset_index(level=0) \n",
    "    df5_melt = pd.melt(df5, id_vars='Date')\n",
    "    df5_melt.rename(columns = {'Date':'Date', 'ID_Prod': 'Code', 'Parcela': 'Parcela', 'value': 'Value'}, inplace=True)\n",
    "    #print(df5_melt.to_string())\n",
    "\n",
    "    if return_csv is True:\n",
    "        out_csv_path = out_name + \".csv\"\n",
    "        print('exporting csv: ' + out_csv_path)\n",
    "        return df5_melt.to_csv(out_csv_path)\n",
    "    else:\n",
    "        return('no csv for ' + out_csv_path)\n",
    "\n"
   ]
  },
  {
   "cell_type": "code",
   "execution_count": null,
   "id": "70ce860b",
   "metadata": {},
   "outputs": [],
   "source": []
  },
  {
   "cell_type": "code",
   "execution_count": null,
   "id": "b4e518b4",
   "metadata": {},
   "outputs": [],
   "source": [
    "index_list = ['evi2', 'kndvi', 'gcvi', 'nbr', 'wi']\n",
    "\n",
    "grid_list_ALBERS = ['001892','001972','002047','002056','002127','002225','002387','002550']\n",
    "grid_list_UTM = ['002388','002548','002549']\n",
    "\n",
    "inputShape_ALBERS = '/home/sandbox-cel/wsa_lc/WSA_AOI/Plot_Locations/NI_ES_polys_albers.shp'\n",
    "inputShape_UTM = '/home/sandbox-cel/wsa_lc/WSA_AOI/Plot_Locations/NI_ES_points_UTM16.shp'\n",
    "\n",
    "#######################################\n",
    "\n",
    "for grid in ['002388']: ## change _ALBERS or UTM\n",
    "    for index in index_list:\n",
    "        input_dir = \"/home/downspout-cel/crs_lc/raster/grids/\" + grid + \"/brdf_ts/ms/\" + index + \"/\" ### crs_lc/wsa_lc for UTM/Albers\n",
    "        out_name = \"/home/downspout-cel/wsa_lc/TS/\" + grid + \"_\" + index + \"_full_TiS\"\n",
    "        stack_extract(input_dir, out_name, inputShape=inputShape_UTM, return_csv=True) ## change _ALBERS or UTM\n",
    "        \n",
    "        \n",
    "        \n",
    "    "
   ]
  },
  {
   "cell_type": "code",
   "execution_count": null,
   "id": "b14c7d06",
   "metadata": {},
   "outputs": [],
   "source": []
  },
  {
   "cell_type": "markdown",
   "id": "13e0cc23",
   "metadata": {},
   "source": [
    "# 2: Plot temporal profiles"
   ]
  },
  {
   "cell_type": "code",
   "execution_count": null,
   "id": "0f541ead",
   "metadata": {},
   "outputs": [],
   "source": [
    "def temporal_profile(input_dir, grid, index_list):\n",
    "    for i in index_list:\n",
    "        input_csv =  input_dir + grid + \"_\" + i + \"_full_TS.csv\"\n",
    "        df = pd.read_csv(input_csv, header=0, index_col=0, parse_dates=True)\n",
    "        fig = px.line(df, x='Date', y='Value', title= i.upper() + ' Time Series (for plots in grid ' + grid + \")\", \n",
    "                      color='FieldID', \n",
    "                      color_discrete_sequence=px.colors.qualitative.Dark2, # Bold, Vivid, Dark2, Pastel\n",
    "                      line_dash='Parcela')\n",
    "        fig.update_layout(xaxis_title='Date', yaxis_title='VI Value')\n",
    "        fig.update_xaxes(rangeslider_visible=True, \n",
    "                         rangeselector=dict(buttons=list([dict(count=6, label=\"6m\", step=\"month\", stepmode=\"backward\"),\n",
    "                                                          dict(count=1, label=\"1y\", step=\"year\", stepmode=\"backward\"), \n",
    "                                                          dict(count=2, label=\"2y\", step=\"year\", stepmode=\"backward\"), \n",
    "                                                          dict(step=\"all\")]) ))\n",
    "        fig.show()\n"
   ]
  },
  {
   "cell_type": "code",
   "execution_count": null,
   "id": "6adf9a70",
   "metadata": {
    "scrolled": false
   },
   "outputs": [],
   "source": [
    "NI_grids = ['002225','002387','002388','002548','002549','002550']\n",
    "ES_grids = ['001892','001972','002047','002056','002127']\n",
    "indices = ['evi2', 'kndvi', 'gcvi'] #['evi2', 'kndvi', 'gcvi', 'nbr']\n",
    "input_dir=\"/home/downspout-cel/wsa_lc/TS/\"\n",
    "best = ['002225','002387','002388','002548','002549']\n",
    "#####################################\n",
    "\n",
    "for i in NI_grids:\n",
    "    temporal_profile(input_dir=\"/home/downspout-cel/wsa_lc/TS/\", grid=i, index_list=['evi2'])\n",
    "    practices_csv =  input_dir + \"practices_NI_ES.csv\"\n",
    "    practices_df = pd.read_csv(practices_csv, dtype=str) \n",
    "    grid_practice_df = practices_df[practices_df['Grid'] == str(i)]\n",
    "    practices = pd.pivot(grid_practice_df, index=['ID_Prod','Parcela', 'Nom.Cob'], columns=['Temporada','Ano'], values=['Cultivo'])\n",
    "    display(practices)"
   ]
  },
  {
   "cell_type": "code",
   "execution_count": null,
   "id": "486f7e2c",
   "metadata": {},
   "outputs": [],
   "source": [
    "\n"
   ]
  },
  {
   "cell_type": "code",
   "execution_count": null,
   "id": "506f83fc",
   "metadata": {},
   "outputs": [],
   "source": [
    "!jupyter nbconvert --to html CRS_stack_plot_TS.ipynb"
   ]
  },
  {
   "cell_type": "code",
   "execution_count": null,
   "id": "a6246a4a",
   "metadata": {},
   "outputs": [],
   "source": []
  },
  {
   "cell_type": "code",
   "execution_count": null,
   "id": "2cf4636c",
   "metadata": {},
   "outputs": [],
   "source": []
  }
 ],
 "metadata": {
  "kernelspec": {
   "display_name": "Python 3",
   "language": "python",
   "name": "python3"
  },
  "language_info": {
   "codemirror_mode": {
    "name": "ipython",
    "version": 3
   },
   "file_extension": ".py",
   "mimetype": "text/x-python",
   "name": "python",
   "nbconvert_exporter": "python",
   "pygments_lexer": "ipython3",
   "version": "3.6.8"
  }
 },
 "nbformat": 4,
 "nbformat_minor": 5
}
